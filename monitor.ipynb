{
 "cells": [
  {
   "cell_type": "code",
   "execution_count": null,
   "metadata": {},
   "outputs": [
    {
     "ename": "",
     "evalue": "",
     "output_type": "error",
     "traceback": [
      "\u001b[1;31mRunning cells with 'venv (Python 3.12.10)' requires the ipykernel package.\n",
      "\u001b[1;31mInstall 'ipykernel' into the Python environment. \n",
      "\u001b[1;31mCommand: '\"d:/ITS/Semester 8/PSO/Final-Recommendation System/mlops-project/venv/Scripts/python.exe\" -m pip install ipykernel -U --force-reinstall'"
     ]
    }
   ],
   "source": [
    "#  pip install evidently @ git+https://github.com/evidentlyai/evidently.git"
   ]
  },
  {
   "cell_type": "code",
   "execution_count": null,
   "metadata": {},
   "outputs": [],
   "source": [
    "import joblib\n",
    "import pandas as pd\n",
    "from steps.clean import Cleaner\n",
    "from evidently.report import Report\n",
    "from evidently.metric_preset import DataDriftPreset, DataQualityPreset, TargetDriftPreset\n",
    "from evidently import ColumnMapping\n",
    "import warnings\n",
    "warnings.filterwarnings(\"ignore\")"
   ]
  },
  {
   "cell_type": "code",
   "execution_count": null,
   "metadata": {},
   "outputs": [],
   "source": [
    "# # import mlflow model version 1\n",
    "# import mlflow\n",
    "# logged_model = 'runs:/47b6b506fd2849429ee13576aef4a852/model'\n",
    "# model = mlflow.pyfunc.load_model(logged_model)\n",
    "\n",
    "# # OR import from models/\n",
    "model = joblib.load('models/model.pkl')"
   ]
  },
  {
   "cell_type": "code",
   "execution_count": null,
   "metadata": {},
   "outputs": [],
   "source": [
    "# Loading data\n",
    "reference = pd.read_csv(\"data/train.csv\")\n",
    "current = pd.read_csv(\"data/test.csv\")\n",
    "production = pd.read_csv(\"data/production.csv\")"
   ]
  },
  {
   "cell_type": "code",
   "execution_count": null,
   "metadata": {},
   "outputs": [],
   "source": [
    "# Clean data\n",
    "cleaner = Cleaner()\n",
    "reference = cleaner.clean_data(reference)\n",
    "reference['prediction'] = model.predict(reference.iloc[:, :-1])\n",
    "\n",
    "current = cleaner.clean_data(current)\n",
    "current['prediction'] = model.predict(current.iloc[:, :-1])\n",
    "\n",
    "production = cleaner.clean_data(production)\n",
    "production['prediction'] = model.predict(production.iloc[:, :-1])"
   ]
  },
  {
   "cell_type": "code",
   "execution_count": null,
   "metadata": {},
   "outputs": [],
   "source": [
    "# Apply column mapping\n",
    "target = 'Result'\n",
    "prediction = 'prediction'\n",
    "numerical_features = ['Age', 'AnnualPremium', 'HasDrivingLicense', 'RegionID', 'Switch']\n",
    "categorical_features = ['Gender','PastAccident']\n",
    "column_mapping = ColumnMapping()\n",
    "\n",
    "column_mapping.target = target\n",
    "column_mapping.prediction = prediction\n",
    "column_mapping.numerical_features = numerical_features\n",
    "column_mapping.categorical_features = categorical_features"
   ]
  },
  {
   "cell_type": "code",
   "execution_count": null,
   "metadata": {},
   "outputs": [],
   "source": [
    "# Data drift detaction part\n",
    "data_drift_report = Report(metrics=[\n",
    "    DataDriftPreset(),\n",
    "    DataQualityPreset(),\n",
    "    TargetDriftPreset()\n",
    "])\n",
    "data_drift_report.run(reference_data=reference, current_data=current, column_mapping=column_mapping)\n",
    "data_drift_report\n",
    "# data_drift_report.json()\n",
    "data_drift_report.save_html(\"test_drift.html\")"
   ]
  }
 ],
 "metadata": {
  "kernelspec": {
   "display_name": "venv",
   "language": "python",
   "name": "python3"
  },
  "language_info": {
   "codemirror_mode": {
    "name": "ipython",
    "version": 3
   },
   "file_extension": ".py",
   "mimetype": "text/x-python",
   "name": "python",
   "nbconvert_exporter": "python",
   "pygments_lexer": "ipython3",
   "version": "3.12.10"
  }
 },
 "nbformat": 4,
 "nbformat_minor": 2
}
